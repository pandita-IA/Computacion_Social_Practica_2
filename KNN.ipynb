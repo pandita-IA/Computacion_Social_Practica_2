{
  "cells": [
    {
      "cell_type": "code",
      "execution_count": 1,
      "metadata": {
        "id": "v66ywdqHfz96"
      },
      "outputs": [],
      "source": [
        "from utils import jmsd_similarity, get_neighbors, average_prediction, has_test_ratings\n",
        "from tqdm import tqdm\n",
        "from utils import procesar_dataframe, get_metricas"
      ]
    },
    {
      "cell_type": "code",
      "execution_count": 2,
      "metadata": {
        "id": "7IlElKfVf1ZU"
      },
      "outputs": [],
      "source": [
        "ratings, test_ratings, NUM_ITEMS, NUM_USERS = procesar_dataframe('./DATOS/datasets_clase/All_Beauty.csv', 1, 5)"
      ]
    },
    {
      "cell_type": "markdown",
      "metadata": {},
      "source": [
        "### Seguimos la partición típica para entrenamiento y test\n",
        "<img src=\"https://i.ibb.co/qNp2Xkm/evaluacion.png\" alt=\"Particionado del dataset para evaluacion\">"
      ]
    },
    {
      "cell_type": "code",
      "execution_count": 3,
      "metadata": {
        "id": "qvXWgAwEGnkr"
      },
      "outputs": [],
      "source": [
        "MIN_RATING = 1\n",
        "MAX_RATING = 5"
      ]
    },
    {
      "cell_type": "code",
      "execution_count": 4,
      "metadata": {},
      "outputs": [
        {
          "name": "stderr",
          "output_type": "stream",
          "text": [
            "100%|██████████| 602/602 [03:50<00:00,  2.61it/s]\n"
          ]
        }
      ],
      "source": [
        "predictions = [[None for _ in range(NUM_ITEMS)] for _ in range(NUM_USERS)]\n",
        "\n",
        "# Rellenamos la matriz de predicciones\n",
        "for u in tqdm(range(NUM_USERS)):\n",
        "  if has_test_ratings(test_ratings, NUM_ITEMS, u):\n",
        "\n",
        "    # Calcular similaridades\n",
        "    similarities_jmsd = [None if u == v else jmsd_similarity(ratings, NUM_ITEMS, MAX_RATING, MIN_RATING, u, v) for v in range(NUM_USERS)]\n",
        "\n",
        "    # Calcular vecinos\n",
        "    neighbors_jmsd = get_neighbors(u, similarities_jmsd)\n",
        "\n",
        "    # Calcular predicciones sobre los items de test votados por el usuario\n",
        "    for i in range(NUM_ITEMS):\n",
        "      if test_ratings[u][i] != None:\n",
        "        predictions[u][i] = average_prediction(ratings, i, neighbors_jmsd)"
      ]
    },
    {
      "cell_type": "code",
      "execution_count": 5,
      "metadata": {},
      "outputs": [
        {
          "name": "stdout",
          "output_type": "stream",
          "text": [
            "MAE =  0.30018517001234635\n",
            "RMSE =  0.3502305533087607\n",
            "Precision =  0.9714285714285714\n",
            "Recall =  0.4788446054750398\n",
            "F1 =  0.6227225672877843\n"
          ]
        }
      ],
      "source": [
        "get_metricas(test_ratings, NUM_ITEMS, NUM_USERS, predictions, 4, 1)"
      ]
    }
  ],
  "metadata": {
    "colab": {
      "provenance": []
    },
    "kernelspec": {
      "display_name": "Python 3",
      "name": "python3"
    },
    "language_info": {
      "codemirror_mode": {
        "name": "ipython",
        "version": 3
      },
      "file_extension": ".py",
      "mimetype": "text/x-python",
      "name": "python",
      "nbconvert_exporter": "python",
      "pygments_lexer": "ipython3",
      "version": "3.11.7"
    }
  },
  "nbformat": 4,
  "nbformat_minor": 0
}
